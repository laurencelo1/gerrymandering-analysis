{
 "cells": [
  {
   "cell_type": "markdown",
   "id": "d78af07b",
   "metadata": {},
   "source": [
    "# Markov Chain Ensemble Using Recom"
   ]
  },
  {
   "cell_type": "markdown",
   "id": "d61592e2",
   "metadata": {},
   "source": [
    "@author: taiyyoson\n",
    "\n",
    "### Using 2018 Election Data"
   ]
  },
  {
   "cell_type": "code",
   "execution_count": null,
   "id": "3dee8eaa",
   "metadata": {},
   "outputs": [],
   "source": [
    "import pandas as pd\n",
    "import geopandas as gpd\n",
    "import maup\n",
    "import matplotlib.pyplot as plt\n",
    "from gerrychain import Graph, Partition, proposals, updaters, constraints, accept, MarkovChain, Election\n",
    "from gerrychain.tree import bipartition_tree\n",
    "from gerrychain.updaters import cut_edges, Tally\n",
    "from gerrychain.proposals import recom\n",
    "from gerrychain.accept import always_accept\n",
    "from functools import partial\n",
    "from gerrychain.metrics import efficiency_gap\n",
    "\n",
    "import time\n",
    "import os"
   ]
  },
  {
   "cell_type": "code",
   "execution_count": 3,
   "id": "adb2e7ec",
   "metadata": {},
   "outputs": [],
   "source": [
    "## making graph\n",
    "sc_graph = Graph.from_file(\"./SC/SC.shp\")\n",
    "sc_gdf = gpd.read_file(\"./SC/SC.shp\")\n",
    "sc_from_gpd_graph = Graph.from_geodataframe(sc_gdf, adjacency=\"rook\") ## creating graph from geodataframe"
   ]
  },
  {
   "cell_type": "code",
   "execution_count": 10,
   "id": "1cf885b8",
   "metadata": {},
   "outputs": [
    {
     "data": {
      "text/plain": [
       "{'boundary_node': False,\n",
       " 'area': 8648536.552029321,\n",
       " 'COUNTY': '013',\n",
       " 'PCODE': '111',\n",
       " 'CODE_NAME': 'Burton 1B',\n",
       " 'G20PRER': 160,\n",
       " 'G20PRED': 650,\n",
       " 'G20USSR': 142,\n",
       " 'G20USSD': 679,\n",
       " 'G20USSCBLE': 7,\n",
       " 'TOTPOP': 2305,\n",
       " 'HISP': 383,\n",
       " 'NH_WHITE': 591,\n",
       " 'NH_BLACK': 1203,\n",
       " 'NH_AMIN': 5,\n",
       " 'NH_ASIAN': 25,\n",
       " 'NH_NHPI': 1,\n",
       " 'NH_OTHER': 19,\n",
       " 'NH_2MORE': 78,\n",
       " 'VAP': 1623,\n",
       " 'HVAP': 1534,\n",
       " 'WVAP': 5,\n",
       " 'BVAP': 22,\n",
       " 'AMINVAP': 1,\n",
       " 'ASIANVAP': 156,\n",
       " 'NHPIVAP': 89,\n",
       " 'OTHERVAP': 84,\n",
       " '2MOREVAP': 13,\n",
       " 'G18GOVD': 25.746192893401012,\n",
       " 'G18GOVR': 0.893401015228426,\n",
       " 'G18SOSD': 26.233502538071065,\n",
       " 'G18SOSR': 0.649746192893401,\n",
       " 'G18TRED': 25.82741116751269,\n",
       " 'G18TRER': 0.649746192893401,\n",
       " 'G18ATGD': 25.746192893401012,\n",
       " 'G18ATGR': 0.568527918781726,\n",
       " 'G18COMR': 3.32994923857868,\n",
       " 'G18SPIR': 1.055837563451776,\n",
       " 'G18AGRR': 1.299492385786802,\n",
       " 'SEND': '45',\n",
       " 'geometry': <POLYGON ((523042.065 3587876.474, 523009.381 3587902.893, 522993.181 358791...>}"
      ]
     },
     "execution_count": 10,
     "metadata": {},
     "output_type": "execute_result"
    }
   ],
   "source": [
    "## printing graph node information fields\n",
    "sc_graph.nodes[1]"
   ]
  },
  {
   "cell_type": "code",
   "execution_count": null,
   "id": "535ea015",
   "metadata": {},
   "outputs": [],
   "source": [
    "## setting up initial markov chain model\n",
    "\n",
    "## functions for markov chain updaters\n",
    "def num_cut_edges(partition):\n",
    "    return len(partition['cut_edges'])\n",
    "\n",
    "def democratic_wins(partition):\n",
    "    return sum(\n",
    "        1 for district in partition.parts \n",
    "        if sum(partition.graph.nodes[node][\"G18ATGD\"] for node in district) > \n",
    "           sum(partition.graph.nodes[node][\"G18ATGR\"] for node in district)\n",
    "    )\n",
    "\n",
    "elections = [\n",
    "    Election(\"G18ATG\", {\"Democratic\": \"G18ATGD\", \"Republican\": \"G18ATGR\"}),\n",
    "    Election(\"G18SOS\", {\"Democratic\": \"G18SOSD\", \"Republican\": \"G18SOSR\"}),\n",
    "    Election(\"G18GOV\", {\"Democratic\": \"G18GOVD\", \"Republican\": \"G18GOVR\"}),\n",
    "    Election(\"G18TRE\", {\"Democratic\": \"G18TRED\", \"Republican\": \"G18TRE\"})]\n",
    "election_updaters = {election.name: election for election in elections}\n",
    "\n",
    "my_updaters = {\n",
    "        \"cut_edges\": cut_edges,\n",
    "        \"population\": Tally(\"TOTPOP\", alias=\"population\"),\n",
    "        \"democratic_wins\": democratic_wins,\n",
    "        \"number_cut_edges\": num_cut_edges,\n",
    "    }\n",
    "my_updaters.update(election_updaters)\n",
    "\n",
    "## creating initial partition\n",
    "initial_partition = Partition(\n",
    "    sc_graph, \n",
    "    assignment=\"CD\",\n",
    "    updaters=my_updaters\n",
    ")\n",
    "\n",
    "## using RECOM on the random walk, need ideal population\n",
    "ideal_population = sum(initial_partition[\"population\"].values()) / len(initial_partition)\n",
    "proposal = partial(recom,\n",
    "                   pop_col=\"TOTPOP\",\n",
    "                   pop_target=ideal_population,\n",
    "                   epsilon=0.02,\n",
    "                   node_repeats=2,\n",
    "                   method = partial(\n",
    "                        bipartition_tree,\n",
    "                        max_attempts=100,\n",
    "                        allow_pair_reselection=True  # <-- This is the only change\n",
    "                    )\n",
    ")\n",
    "\n",
    "\n",
    "## all used for building markov chain\n",
    "compactness_bound = constraints.UpperBound(\n",
    "    lambda p: len(p[\"cut_edges\"]),\n",
    "    2*len(initial_partition[\"cut_edges\"])\n",
    ")\n",
    "pop_constraint = constraints.within_percent_of_ideal_population(initial_partition, 0.02)\n",
    "\n",
    "\n",
    "\n"
   ]
  },
  {
   "cell_type": "code",
   "execution_count": null,
   "id": "7fdd5a61",
   "metadata": {},
   "outputs": [],
   "source": [
    "## running markov chain random walk (using recom proposal)\n",
    "num_steps = 500\n",
    "for i in range(2):\n",
    "    chain = MarkovChain(\n",
    "        proposal=proposal,\n",
    "        constraints=[compactness_bound, pop_constraint],\n",
    "        accept=accept.always_accept,\n",
    "        initial_state=initial_partition,\n",
    "        total_steps=num_steps ## sample step count for now\n",
    "    )"
   ]
  }
 ],
 "metadata": {
  "kernelspec": {
   "display_name": "redist",
   "language": "python",
   "name": "python3"
  },
  "language_info": {
   "codemirror_mode": {
    "name": "ipython",
    "version": 3
   },
   "file_extension": ".py",
   "mimetype": "text/x-python",
   "name": "python",
   "nbconvert_exporter": "python",
   "pygments_lexer": "ipython3",
   "version": "3.11.11"
  }
 },
 "nbformat": 4,
 "nbformat_minor": 5
}
