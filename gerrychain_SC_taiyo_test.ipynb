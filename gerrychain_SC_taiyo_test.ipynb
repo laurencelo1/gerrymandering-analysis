{
 "cells": [
  {
   "cell_type": "markdown",
   "id": "d78af07b",
   "metadata": {},
   "source": [
    "# Markov Chain Ensemble Using Recom"
   ]
  },
  {
   "cell_type": "markdown",
   "id": "d61592e2",
   "metadata": {},
   "source": [
    "@author: taiyyoson\n",
    "\n",
    "### Using 2018 Election Data"
   ]
  },
  {
   "cell_type": "code",
   "execution_count": 1,
   "id": "3dee8eaa",
   "metadata": {},
   "outputs": [],
   "source": [
    "import pandas as pd\n",
    "import geopandas as gpd\n",
    "import maup\n",
    "import matplotlib.pyplot as plt\n",
    "from gerrychain import Graph, Partition, proposals, updaters, constraints, accept, MarkovChain, Election\n",
    "from gerrychain.tree import bipartition_tree\n",
    "from gerrychain.updaters import cut_edges, Tally\n",
    "from gerrychain.proposals import recom\n",
    "from gerrychain.accept import always_accept\n",
    "from functools import partial\n",
    "\n",
    "import time\n",
    "import os"
   ]
  },
  {
   "cell_type": "code",
   "execution_count": 3,
   "id": "adb2e7ec",
   "metadata": {},
   "outputs": [],
   "source": [
    "## making graph\n",
    "sc_graph = Graph.from_file(\"./SC/SC.shp\")\n",
    "sc_gdf = gpd.read_file(\"./SC/SC.shp\")\n",
    "sc_from_gpd_graph = Graph.from_geodataframe(sc_gdf, adjacency=\"rook\") ## creating graph from geodataframe"
   ]
  },
  {
   "cell_type": "code",
   "execution_count": null,
   "id": "535ea015",
   "metadata": {},
   "outputs": [],
   "source": []
  }
 ],
 "metadata": {
  "kernelspec": {
   "display_name": "redist",
   "language": "python",
   "name": "python3"
  },
  "language_info": {
   "codemirror_mode": {
    "name": "ipython",
    "version": 3
   },
   "file_extension": ".py",
   "mimetype": "text/x-python",
   "name": "python",
   "nbconvert_exporter": "python",
   "pygments_lexer": "ipython3",
   "version": "3.11.11"
  }
 },
 "nbformat": 4,
 "nbformat_minor": 5
}
